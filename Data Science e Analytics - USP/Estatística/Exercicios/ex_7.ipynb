{
 "cells": [
  {
   "cell_type": "markdown",
   "id": "29fdd2d3",
   "metadata": {},
   "source": [
    "Exercício 7 - Enunciado: \n",
    "\n",
    "(Fonte: Fávero e Belfiore, 2024, Cap. 8) Um grupo de 60 leitores fez uma\n",
    "avaliação de três livros de romance e, ao final, escolheram uma das três\n",
    "opções. Teste a hipótese nula de que não há diferença na preferência dos\n",
    "leitores, ao nível de significância de 5%."
   ]
  },
  {
   "cell_type": "code",
   "execution_count": 69,
   "id": "754e41be",
   "metadata": {},
   "outputs": [],
   "source": [
    "# Leitura dos dados\n",
    "import os\n",
    "import pandas as pd\n",
    "\n",
    "current_dir = os.getcwd()\n",
    "data_path = os.path.abspath(os.path.join(current_dir, \"..\", \"data\"))\n",
    "file = os.path.join(data_path, 'Lista de Exercicios - Complementaresxlsx Portugues.xlsx')\n",
    "dados = pd.read_excel(file, sheet_name = 'Exercício 7')"
   ]
  },
  {
   "cell_type": "code",
   "execution_count": 70,
   "id": "6211a192",
   "metadata": {},
   "outputs": [
    {
     "data": {
      "text/html": [
       "<div>\n",
       "<style scoped>\n",
       "    .dataframe tbody tr th:only-of-type {\n",
       "        vertical-align: middle;\n",
       "    }\n",
       "\n",
       "    .dataframe tbody tr th {\n",
       "        vertical-align: top;\n",
       "    }\n",
       "\n",
       "    .dataframe thead th {\n",
       "        text-align: right;\n",
       "    }\n",
       "</style>\n",
       "<table border=\"1\" class=\"dataframe\">\n",
       "  <thead>\n",
       "    <tr style=\"text-align: right;\">\n",
       "      <th></th>\n",
       "      <th>Eventos</th>\n",
       "      <th>Livro A</th>\n",
       "      <th>Livro B</th>\n",
       "      <th>Livro C</th>\n",
       "      <th>Total</th>\n",
       "      <th>Unnamed: 5</th>\n",
       "      <th>Unnamed: 6</th>\n",
       "      <th>Unnamed: 7</th>\n",
       "      <th>Unnamed: 8</th>\n",
       "      <th>Fávero, Luiz Paulo; Belfiore, Patrícia. (2024). Manual de análise de dados: estatística e machine learning com Excel®, SPSS®, Stata®, R® e Python®. 2 ed. Rio de Janeiro: LTC.</th>\n",
       "    </tr>\n",
       "  </thead>\n",
       "  <tbody>\n",
       "    <tr>\n",
       "      <th>0</th>\n",
       "      <td>Frequência</td>\n",
       "      <td>29</td>\n",
       "      <td>15</td>\n",
       "      <td>16.000</td>\n",
       "      <td>60.0</td>\n",
       "      <td>&gt; frequência observada</td>\n",
       "      <td>NaN</td>\n",
       "      <td>NaN</td>\n",
       "      <td>NaN</td>\n",
       "      <td>NaN</td>\n",
       "    </tr>\n",
       "    <tr>\n",
       "      <th>1</th>\n",
       "      <td>Proporção</td>\n",
       "      <td>0.483</td>\n",
       "      <td>0.25</td>\n",
       "      <td>0.267</td>\n",
       "      <td>1.0</td>\n",
       "      <td>NaN</td>\n",
       "      <td>NaN</td>\n",
       "      <td>NaN</td>\n",
       "      <td>NaN</td>\n",
       "      <td>NaN</td>\n",
       "    </tr>\n",
       "    <tr>\n",
       "      <th>2</th>\n",
       "      <td>NaN</td>\n",
       "      <td>NaN</td>\n",
       "      <td>NaN</td>\n",
       "      <td>NaN</td>\n",
       "      <td>NaN</td>\n",
       "      <td>NaN</td>\n",
       "      <td>NaN</td>\n",
       "      <td>NaN</td>\n",
       "      <td>NaN</td>\n",
       "      <td>NaN</td>\n",
       "    </tr>\n",
       "    <tr>\n",
       "      <th>3</th>\n",
       "      <td>Frequência</td>\n",
       "      <td>20</td>\n",
       "      <td>20</td>\n",
       "      <td>20.000</td>\n",
       "      <td>60.0</td>\n",
       "      <td>&gt; frequência esperada</td>\n",
       "      <td>NaN</td>\n",
       "      <td>NaN</td>\n",
       "      <td>NaN</td>\n",
       "      <td>NaN</td>\n",
       "    </tr>\n",
       "    <tr>\n",
       "      <th>4</th>\n",
       "      <td>NaN</td>\n",
       "      <td>NaN</td>\n",
       "      <td>NaN</td>\n",
       "      <td>NaN</td>\n",
       "      <td>NaN</td>\n",
       "      <td>NaN</td>\n",
       "      <td>NaN</td>\n",
       "      <td>NaN</td>\n",
       "      <td>NaN</td>\n",
       "      <td>NaN</td>\n",
       "    </tr>\n",
       "  </tbody>\n",
       "</table>\n",
       "</div>"
      ],
      "text/plain": [
       "      Eventos Livro A Livro B  Livro C  Total              Unnamed: 5  \\\n",
       "0  Frequência      29      15   16.000   60.0  > frequência observada   \n",
       "1   Proporção   0.483    0.25    0.267    1.0                     NaN   \n",
       "2         NaN     NaN     NaN      NaN    NaN                     NaN   \n",
       "3  Frequência      20      20   20.000   60.0   > frequência esperada   \n",
       "4         NaN     NaN     NaN      NaN    NaN                     NaN   \n",
       "\n",
       "   Unnamed: 6  Unnamed: 7  Unnamed: 8  \\\n",
       "0         NaN         NaN         NaN   \n",
       "1         NaN         NaN         NaN   \n",
       "2         NaN         NaN         NaN   \n",
       "3         NaN         NaN         NaN   \n",
       "4         NaN         NaN         NaN   \n",
       "\n",
       "   Fávero, Luiz Paulo; Belfiore, Patrícia. (2024). Manual de análise de dados: estatística e machine learning com Excel®, SPSS®, Stata®, R® e Python®. 2 ed. Rio de Janeiro: LTC.  \n",
       "0                                                NaN                                                                                                                               \n",
       "1                                                NaN                                                                                                                               \n",
       "2                                                NaN                                                                                                                               \n",
       "3                                                NaN                                                                                                                               \n",
       "4                                                NaN                                                                                                                               "
      ]
     },
     "execution_count": 70,
     "metadata": {},
     "output_type": "execute_result"
    }
   ],
   "source": [
    "dados.head()"
   ]
  },
  {
   "cell_type": "code",
   "execution_count": 71,
   "id": "ce368082",
   "metadata": {},
   "outputs": [],
   "source": [
    "# Selecionando os dados\n",
    "dados = pd.DataFrame(data = dados)"
   ]
  },
  {
   "cell_type": "code",
   "execution_count": 72,
   "id": "44731437",
   "metadata": {},
   "outputs": [
    {
     "data": {
      "text/html": [
       "<div>\n",
       "<style scoped>\n",
       "    .dataframe tbody tr th:only-of-type {\n",
       "        vertical-align: middle;\n",
       "    }\n",
       "\n",
       "    .dataframe tbody tr th {\n",
       "        vertical-align: top;\n",
       "    }\n",
       "\n",
       "    .dataframe thead th {\n",
       "        text-align: right;\n",
       "    }\n",
       "</style>\n",
       "<table border=\"1\" class=\"dataframe\">\n",
       "  <thead>\n",
       "    <tr style=\"text-align: right;\">\n",
       "      <th></th>\n",
       "      <th>Eventos</th>\n",
       "      <th>Livro A</th>\n",
       "      <th>Livro B</th>\n",
       "      <th>Livro C</th>\n",
       "      <th>Total</th>\n",
       "      <th>Unnamed: 5</th>\n",
       "      <th>Unnamed: 6</th>\n",
       "      <th>Unnamed: 7</th>\n",
       "      <th>Unnamed: 8</th>\n",
       "      <th>Fávero, Luiz Paulo; Belfiore, Patrícia. (2024). Manual de análise de dados: estatística e machine learning com Excel®, SPSS®, Stata®, R® e Python®. 2 ed. Rio de Janeiro: LTC.</th>\n",
       "    </tr>\n",
       "  </thead>\n",
       "  <tbody>\n",
       "    <tr>\n",
       "      <th>0</th>\n",
       "      <td>Frequência</td>\n",
       "      <td>29</td>\n",
       "      <td>15</td>\n",
       "      <td>16.000</td>\n",
       "      <td>60.0</td>\n",
       "      <td>&gt; frequência observada</td>\n",
       "      <td>NaN</td>\n",
       "      <td>NaN</td>\n",
       "      <td>NaN</td>\n",
       "      <td>NaN</td>\n",
       "    </tr>\n",
       "    <tr>\n",
       "      <th>1</th>\n",
       "      <td>Proporção</td>\n",
       "      <td>0.483</td>\n",
       "      <td>0.25</td>\n",
       "      <td>0.267</td>\n",
       "      <td>1.0</td>\n",
       "      <td>NaN</td>\n",
       "      <td>NaN</td>\n",
       "      <td>NaN</td>\n",
       "      <td>NaN</td>\n",
       "      <td>NaN</td>\n",
       "    </tr>\n",
       "    <tr>\n",
       "      <th>2</th>\n",
       "      <td>NaN</td>\n",
       "      <td>NaN</td>\n",
       "      <td>NaN</td>\n",
       "      <td>NaN</td>\n",
       "      <td>NaN</td>\n",
       "      <td>NaN</td>\n",
       "      <td>NaN</td>\n",
       "      <td>NaN</td>\n",
       "      <td>NaN</td>\n",
       "      <td>NaN</td>\n",
       "    </tr>\n",
       "    <tr>\n",
       "      <th>3</th>\n",
       "      <td>Frequência</td>\n",
       "      <td>20</td>\n",
       "      <td>20</td>\n",
       "      <td>20.000</td>\n",
       "      <td>60.0</td>\n",
       "      <td>&gt; frequência esperada</td>\n",
       "      <td>NaN</td>\n",
       "      <td>NaN</td>\n",
       "      <td>NaN</td>\n",
       "      <td>NaN</td>\n",
       "    </tr>\n",
       "    <tr>\n",
       "      <th>4</th>\n",
       "      <td>NaN</td>\n",
       "      <td>NaN</td>\n",
       "      <td>NaN</td>\n",
       "      <td>NaN</td>\n",
       "      <td>NaN</td>\n",
       "      <td>NaN</td>\n",
       "      <td>NaN</td>\n",
       "      <td>NaN</td>\n",
       "      <td>NaN</td>\n",
       "      <td>NaN</td>\n",
       "    </tr>\n",
       "  </tbody>\n",
       "</table>\n",
       "</div>"
      ],
      "text/plain": [
       "      Eventos Livro A Livro B  Livro C  Total              Unnamed: 5  \\\n",
       "0  Frequência      29      15   16.000   60.0  > frequência observada   \n",
       "1   Proporção   0.483    0.25    0.267    1.0                     NaN   \n",
       "2         NaN     NaN     NaN      NaN    NaN                     NaN   \n",
       "3  Frequência      20      20   20.000   60.0   > frequência esperada   \n",
       "4         NaN     NaN     NaN      NaN    NaN                     NaN   \n",
       "\n",
       "   Unnamed: 6  Unnamed: 7  Unnamed: 8  \\\n",
       "0         NaN         NaN         NaN   \n",
       "1         NaN         NaN         NaN   \n",
       "2         NaN         NaN         NaN   \n",
       "3         NaN         NaN         NaN   \n",
       "4         NaN         NaN         NaN   \n",
       "\n",
       "   Fávero, Luiz Paulo; Belfiore, Patrícia. (2024). Manual de análise de dados: estatística e machine learning com Excel®, SPSS®, Stata®, R® e Python®. 2 ed. Rio de Janeiro: LTC.  \n",
       "0                                                NaN                                                                                                                               \n",
       "1                                                NaN                                                                                                                               \n",
       "2                                                NaN                                                                                                                               \n",
       "3                                                NaN                                                                                                                               \n",
       "4                                                NaN                                                                                                                               "
      ]
     },
     "execution_count": 72,
     "metadata": {},
     "output_type": "execute_result"
    }
   ],
   "source": [
    "dados.head()"
   ]
  },
  {
   "cell_type": "code",
   "execution_count": 73,
   "id": "8e817fde",
   "metadata": {},
   "outputs": [],
   "source": [
    "# Realizando a limpeza da tabela\n",
    "\n",
    "dados = dados[['Livro A', 'Livro B', 'Livro C']]\n",
    "dados = dados.iloc[[0,3]]\n",
    "dados.index=['Frequência Real','Frequência Esperada']"
   ]
  },
  {
   "cell_type": "code",
   "execution_count": 74,
   "id": "e0c225b5",
   "metadata": {},
   "outputs": [
    {
     "data": {
      "text/html": [
       "<div>\n",
       "<style scoped>\n",
       "    .dataframe tbody tr th:only-of-type {\n",
       "        vertical-align: middle;\n",
       "    }\n",
       "\n",
       "    .dataframe tbody tr th {\n",
       "        vertical-align: top;\n",
       "    }\n",
       "\n",
       "    .dataframe thead th {\n",
       "        text-align: right;\n",
       "    }\n",
       "</style>\n",
       "<table border=\"1\" class=\"dataframe\">\n",
       "  <thead>\n",
       "    <tr style=\"text-align: right;\">\n",
       "      <th></th>\n",
       "      <th>Livro A</th>\n",
       "      <th>Livro B</th>\n",
       "      <th>Livro C</th>\n",
       "    </tr>\n",
       "  </thead>\n",
       "  <tbody>\n",
       "    <tr>\n",
       "      <th>Frequência Real</th>\n",
       "      <td>29</td>\n",
       "      <td>15</td>\n",
       "      <td>16.0</td>\n",
       "    </tr>\n",
       "    <tr>\n",
       "      <th>Frequência Esperada</th>\n",
       "      <td>20</td>\n",
       "      <td>20</td>\n",
       "      <td>20.0</td>\n",
       "    </tr>\n",
       "  </tbody>\n",
       "</table>\n",
       "</div>"
      ],
      "text/plain": [
       "                    Livro A Livro B  Livro C\n",
       "Frequência Real          29      15     16.0\n",
       "Frequência Esperada      20      20     20.0"
      ]
     },
     "execution_count": 74,
     "metadata": {},
     "output_type": "execute_result"
    }
   ],
   "source": [
    "dados.head()"
   ]
  },
  {
   "cell_type": "code",
   "execution_count": null,
   "id": "a0c20375",
   "metadata": {},
   "outputs": [],
   "source": [
    "# Aplicando o teste qui-quadrado para identificar relações entre variáveis categóricas.\n",
    "# Cálculo dos Resíduos\n",
    "dados.loc['Resíduo'] = dados.loc['Frequência Real'] - dados.loc['Frequência Esperada']\n"
   ]
  },
  {
   "cell_type": "code",
   "execution_count": 82,
   "id": "9f072a0b",
   "metadata": {},
   "outputs": [
    {
     "name": "stdout",
     "output_type": "stream",
     "text": [
      "O valor de Qui-quadrado é: 6.1\n"
     ]
    }
   ],
   "source": [
    "# Cálculo estatística Qui-Quadrado\n",
    " \n",
    "qui = 0\n",
    "for esperado, residuo in zip(dados.loc['Frequência Esperada'], dados.loc['Resíduo']):\n",
    "    qui += (residuo)**2 / esperado\n",
    "\n",
    "print(f'O valor de Qui-quadrado é: {qui}')"
   ]
  },
  {
   "cell_type": "code",
   "execution_count": 94,
   "id": "5ab4b625",
   "metadata": {},
   "outputs": [
    {
     "name": "stdout",
     "output_type": "stream",
     "text": [
      "Valor crítico: 5.99\n"
     ]
    }
   ],
   "source": [
    "# Valor crítico\n",
    "from scipy.stats import chi2\n",
    "\n",
    "# Graus de liberdade\n",
    "gl = 2\n",
    "\n",
    "# valor crítico = 0.05\n",
    "valor_critico = chi2.ppf(0.95, gl)\n",
    "\n",
    "print(f'Valor crítico: {valor_critico:.2f}')"
   ]
  },
  {
   "cell_type": "code",
   "execution_count": 93,
   "id": "6c53437c",
   "metadata": {},
   "outputs": [
    {
     "name": "stdout",
     "output_type": "stream",
     "text": [
      "Resultado: Rejeitamos a hipótese nula (há diferença na preferência).\n"
     ]
    }
   ],
   "source": [
    "# Conclusão\n",
    "if qui > valor_critico:\n",
    "    print(\"Resultado: Rejeitamos a hipótese nula (há diferença na preferência).\")\n",
    "else:\n",
    "    print(\"Resultado: Não rejeitamos a hipótese nula (sem evidência de preferência\")"
   ]
  },
  {
   "cell_type": "code",
   "execution_count": null,
   "id": "05c204ae",
   "metadata": {},
   "outputs": [],
   "source": []
  }
 ],
 "metadata": {
  "kernelspec": {
   "display_name": "base",
   "language": "python",
   "name": "python3"
  },
  "language_info": {
   "codemirror_mode": {
    "name": "ipython",
    "version": 3
   },
   "file_extension": ".py",
   "mimetype": "text/x-python",
   "name": "python",
   "nbconvert_exporter": "python",
   "pygments_lexer": "ipython3",
   "version": "3.11.3"
  }
 },
 "nbformat": 4,
 "nbformat_minor": 5
}
