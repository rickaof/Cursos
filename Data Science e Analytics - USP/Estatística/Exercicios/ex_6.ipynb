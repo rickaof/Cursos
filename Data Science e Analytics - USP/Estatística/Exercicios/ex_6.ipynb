{
 "cells": [
  {
   "cell_type": "markdown",
   "id": "7db24014",
   "metadata": {},
   "source": [
    "Exercício 6 - Enunciado: \n",
    "Nos últimos meses, foram feitas medições do tempo decorrido entre o início\n",
    "e finalização de uma das etapas do processo de produção de certo produto. O\n",
    "tempo médio foi calculado em 26,5 minutos e o desvio padrão foi de 4,0\n",
    "minutos. Sabendo que tal variável segue uma distribuição normal, identifique\n",
    "as seguintes informações:\n",
    "\n",
    "a) P(X>37)\n",
    "\n",
    "b) P(X<20)\n",
    "\n",
    "c) P(22<X<28)\n"
   ]
  },
  {
   "cell_type": "code",
   "execution_count": null,
   "id": "94dc5dfb",
   "metadata": {},
   "outputs": [],
   "source": [
    "# Função\n",
    "\n",
    "from scipy.stats import norm\n",
    "def dist (x1,x2, tipo):\n",
    "    # dados\n",
    "    media = 26.5\n",
    "    desvio = 4\n",
    "\n",
    "    # Cálculo\n",
    "    if tipo == 'maior':\n",
    "        prob = 1- norm.cdf(x1, loc = media, scale = desvio)\n",
    "        print(f'A probabilidade do tempo ser maior que {x1} minutos é: {100*prob:.2f} %')\n",
    "    elif tipo == 'menor':\n",
    "        prob = norm.cdf(x1, loc = media, scale = desvio)\n",
    "        print(f'A probabilidade do tempo ser menor que {x1} minutos é: {100*prob:.2f} %')\n",
    "    else:\n",
    "        prob = norm.cdf(x2, loc = media, scale = desvio) - norm.cdf(x1, loc = media, scale = desvio)\n",
    "        print(f'A probabilidade do tempo ser entre {x2} e {x1} em minutos é: {100*prob:.2f} %')"
   ]
  },
  {
   "cell_type": "code",
   "execution_count": 13,
   "id": "ed3bf83e",
   "metadata": {},
   "outputs": [
    {
     "name": "stdout",
     "output_type": "stream",
     "text": [
      "A probabilidade do tempo ser maior que 37 minutos é: 0.43 %\n"
     ]
    }
   ],
   "source": [
    "# a) P(X>37)\n",
    "dist(37,0,'maior')"
   ]
  },
  {
   "cell_type": "code",
   "execution_count": 14,
   "id": "3e4f2813",
   "metadata": {},
   "outputs": [
    {
     "name": "stdout",
     "output_type": "stream",
     "text": [
      "A probabilidade do tempo ser menor que 20 minutos é: 5.21 %\n"
     ]
    }
   ],
   "source": [
    "# b) P(X<20)\n",
    "dist(20,0, 'menor')"
   ]
  },
  {
   "cell_type": "code",
   "execution_count": 17,
   "id": "31642cba",
   "metadata": {},
   "outputs": [
    {
     "name": "stdout",
     "output_type": "stream",
     "text": [
      "A probabilidade do tempo ser entre 28 e 22 em minutos é: 51.59 %\n"
     ]
    }
   ],
   "source": [
    "# c) P(22<X<28)\n",
    "dist (22, 28,'entre')"
   ]
  }
 ],
 "metadata": {
  "kernelspec": {
   "display_name": "base",
   "language": "python",
   "name": "python3"
  },
  "language_info": {
   "codemirror_mode": {
    "name": "ipython",
    "version": 3
   },
   "file_extension": ".py",
   "mimetype": "text/x-python",
   "name": "python",
   "nbconvert_exporter": "python",
   "pygments_lexer": "ipython3",
   "version": "3.11.3"
  }
 },
 "nbformat": 4,
 "nbformat_minor": 5
}
