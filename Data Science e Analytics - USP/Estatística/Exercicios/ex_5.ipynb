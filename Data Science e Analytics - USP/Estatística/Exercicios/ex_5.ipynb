{
 "cells": [
  {
   "cell_type": "markdown",
   "id": "7fa94242",
   "metadata": {},
   "source": [
    "Exercício 5 - Enunciado\n",
    "Suponha que o número de acidentes de trânsito em determinada cidade seja,\n",
    "em média, de 5 acidentes por dia e que siga uma distribuição Poisson. Calcule\n",
    "a probabilidade de que, em tal cidade, ocorram 9 acidentes de trânsito em um\n",
    "dia.\n",
    "\n",
    "Distribuição de Poisson: Indica a probabilidade do número de sucessos (k) em uma determinada exposição contínua."
   ]
  },
  {
   "cell_type": "code",
   "execution_count": 29,
   "id": "8c78c2b7",
   "metadata": {},
   "outputs": [
    {
     "name": "stdout",
     "output_type": "stream",
     "text": [
      "A probabilidade de ocorrer 9 acidentes de trânsito em um dia é 3.63 %\n"
     ]
    }
   ],
   "source": [
    "# Fórmula matemática da dist. poisson para determinarmos o número de k sucessos em uma determinada exposição contínua.\n",
    "# P(X=k) = (e**-lambda)*lambda^k/k!, em que lambda é a taxa média estimada de ocorrência do evento (sucesso) em dada exposição.\n",
    "\n",
    "from math import factorial, e\n",
    "\n",
    "# dados\n",
    "lamb_dia = 5\n",
    "k = 9\n",
    "\n",
    "# Cálculo\n",
    "prob = ((e**-lamb_dia)*lamb_dia**k/factorial(k))*100\n",
    "\n",
    "print(f'A probabilidade de ocorrer 9 acidentes de trânsito em um dia é {prob:.2f} %')\n"
   ]
  },
  {
   "cell_type": "code",
   "execution_count": 30,
   "id": "0a3fd27e",
   "metadata": {},
   "outputs": [
    {
     "name": "stdout",
     "output_type": "stream",
     "text": [
      "A probabilidade de ocorrer 9 acidentes de trânsito em um dia é 3.63 %\n"
     ]
    }
   ],
   "source": [
    "# Validação\n",
    "\n",
    "from scipy.stats import poisson\n",
    "\n",
    "# dados\n",
    "lamb_dia = 5\n",
    "k = 9\n",
    "\n",
    "# Cálculos\n",
    "prob_poisson = poisson.pmf(k, lamb_dia) * 100\n",
    "\n",
    "print(f'A probabilidade de ocorrer 9 acidentes de trânsito em um dia é {prob_poisson:.2f} %')"
   ]
  },
  {
   "cell_type": "code",
   "execution_count": null,
   "id": "fd86b815",
   "metadata": {},
   "outputs": [],
   "source": []
  }
 ],
 "metadata": {
  "kernelspec": {
   "display_name": "base",
   "language": "python",
   "name": "python3"
  },
  "language_info": {
   "codemirror_mode": {
    "name": "ipython",
    "version": 3
   },
   "file_extension": ".py",
   "mimetype": "text/x-python",
   "name": "python",
   "nbconvert_exporter": "python",
   "pygments_lexer": "ipython3",
   "version": "3.11.3"
  }
 },
 "nbformat": 4,
 "nbformat_minor": 5
}
