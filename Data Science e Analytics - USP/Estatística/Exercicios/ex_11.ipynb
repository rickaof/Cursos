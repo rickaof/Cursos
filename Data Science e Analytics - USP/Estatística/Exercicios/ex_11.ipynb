{
 "cells": [
  {
   "cell_type": "markdown",
   "id": "ebf4a01b",
   "metadata": {},
   "source": [
    "Exercício 11 - Enunciado:\n",
    "\n",
    "Em uma indústria alimentícia, para a preparação de certo produto, a\n",
    "quantidade padrão de sal são 8g com desvio padrão igual a 1g. Na análise de\n",
    "uma amostra de 85 produtos, foi observada uma quantidade média de sal de\n",
    "8,25g. Avalie se a quantidade observada na amostra pode ser considerada\n",
    "estatisticamente maior, ao nível de significância de 5%."
   ]
  },
  {
   "cell_type": "code",
   "execution_count": 7,
   "id": "19342c1d",
   "metadata": {},
   "outputs": [
    {
     "name": "stdout",
     "output_type": "stream",
     "text": [
      "O z crítico é: 1.64\n"
     ]
    }
   ],
   "source": [
    "# Teste de Hipótese\n",
    "# Hipótese = 0 -- > A amostra não é estatísticamente maior ao nível de significância de 5%\n",
    "\n",
    "import pandas as pd\n",
    "import numpy as np\n",
    "from scipy.stats import norm\n",
    "\n",
    "# t crítico\n",
    "media = 8.25\n",
    "desvio = 1\n",
    "media_esperada = 8\n",
    "alpha = 0.05\n",
    "n = 85\n",
    "\n",
    "z_critico = norm.ppf(1-alpha)\n",
    "print(f'O z crítico é: {z_critico:.2f}')"
   ]
  },
  {
   "cell_type": "code",
   "execution_count": 10,
   "id": "e52d4d11",
   "metadata": {},
   "outputs": [
    {
     "name": "stdout",
     "output_type": "stream",
     "text": [
      "O z calculado é: 2.30\n"
     ]
    }
   ],
   "source": [
    "# z calculado\n",
    "z_calc = (media-media_esperada)/(desvio/np.sqrt(n))\n",
    "print(f'O z calculado é: {z_calc:.2f}')"
   ]
  },
  {
   "cell_type": "code",
   "execution_count": 9,
   "id": "614f707a",
   "metadata": {},
   "outputs": [
    {
     "name": "stdout",
     "output_type": "stream",
     "text": [
      "A quantidade observada na amostra pode ser considerada estatísticamente maior\n"
     ]
    }
   ],
   "source": [
    "# Teste de hipótese\n",
    "if z_calc > z_critico:\n",
    "    print(f'A quantidade observada na amostra pode ser considerada estatísticamente maior')\n",
    "else:\n",
    "    print('A amostra não é siginificamente maior.')"
   ]
  },
  {
   "cell_type": "code",
   "execution_count": null,
   "id": "6cf78f56",
   "metadata": {},
   "outputs": [],
   "source": []
  }
 ],
 "metadata": {
  "kernelspec": {
   "display_name": "base",
   "language": "python",
   "name": "python3"
  },
  "language_info": {
   "codemirror_mode": {
    "name": "ipython",
    "version": 3
   },
   "file_extension": ".py",
   "mimetype": "text/x-python",
   "name": "python",
   "nbconvert_exporter": "python",
   "pygments_lexer": "ipython3",
   "version": "3.11.3"
  }
 },
 "nbformat": 4,
 "nbformat_minor": 5
}
