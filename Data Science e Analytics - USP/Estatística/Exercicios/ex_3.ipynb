{
 "cells": [
  {
   "cell_type": "markdown",
   "id": "769c03a6",
   "metadata": {},
   "source": [
    "Exercício 3 - Enunciado\n",
    "Em certo jogo, probabilidade de vitória (sucesso) a cada nova jogada é 1/6.\n",
    "Se forem feitas 10 jogadas, quais são as seguintes probabilidades:\n",
    "a) Ter vitória em 4 jogadas.\n",
    "b) Ter vitória em pelo menos 7 jogadas."
   ]
  },
  {
   "cell_type": "code",
   "execution_count": 11,
   "id": "d3f0947f",
   "metadata": {},
   "outputs": [
    {
     "name": "stdout",
     "output_type": "stream",
     "text": [
      "A combinação (n,k) é: 210.0\n",
      "A probabilidade de ter vitória em 4 jogadas é: 5.43 %\n"
     ]
    }
   ],
   "source": [
    "# Fórmula para o cálculo em distribuição binomial: P(X=k) = C(n,k) × p^k × (1-p)^(n-k), onde C(n,k) = n!/k!(n-k)!\n",
    "# a) Ter vitória em 4 jogadas.\n",
    "\n",
    "from math import factorial \n",
    "# dados\n",
    "n = 10\n",
    "k = 4\n",
    "p = 1/6\n",
    "\n",
    "combinacao = factorial(n)/(factorial(k)*factorial(n-k))\n",
    "print(f'A combinação (n,k) é: {combinacao}')\n",
    "Prob_x_k = combinacao * p ** k * (1-p)**(n-k) * 100\n",
    "print(f'A probabilidade de ter vitória em 4 jogadas é: {Prob_x_k:.2f} %') \n",
    "\n"
   ]
  },
  {
   "cell_type": "code",
   "execution_count": 15,
   "id": "d94f6ec1",
   "metadata": {},
   "outputs": [
    {
     "name": "stdout",
     "output_type": "stream",
     "text": [
      "A probabilidadde de ter vitória em 4 jogadas é: 5.43 %\n"
     ]
    }
   ],
   "source": [
    "# Validando o resultado\n",
    "from scipy.stats import binom\n",
    "\n",
    "# dados\n",
    "n = 10\n",
    "k = 4\n",
    "p = 1/6\n",
    "\n",
    "prob_bin_x_k = binom.pmf(k, n, p) * 100\n",
    "print(f'A probabilidadde de ter vitória em 4 jogadas é: {prob_bin_x_k:.2f} %')"
   ]
  },
  {
   "cell_type": "code",
   "execution_count": 24,
   "id": "c8c3b94b",
   "metadata": {},
   "outputs": [
    {
     "name": "stdout",
     "output_type": "stream",
     "text": [
      "A probabilidade de ter vitória em pelo menos 7 jogadas é: 0.03 %\n"
     ]
    }
   ],
   "source": [
    "# b) Ter vitória em pelo menos 7 jogadas.\n",
    "# A prob de ter vitórtia em pelo menos 7 jogadas será P(X = 7), P(X = 8), P(X = 9), P(X = 10).\n",
    "\n",
    "# dados\n",
    "n = 10\n",
    "p = 1/6\n",
    "prob = 0\n",
    "comb = 0\n",
    "for k in range (7, 11):\n",
    "    combinacao = factorial(n)/(factorial(k)*factorial(n-k))\n",
    "    prob += combinacao * p ** k * (1-p)**(n-k) * 100\n",
    "\n",
    "print(f'A probabilidade de ter vitória em pelo menos 7 jogadas é: {prob:.2f} %')"
   ]
  },
  {
   "cell_type": "code",
   "execution_count": 26,
   "id": "0aeb3da1",
   "metadata": {},
   "outputs": [
    {
     "name": "stdout",
     "output_type": "stream",
     "text": [
      "A probabilidade de ter vitória em pelo menos 7 jogadas é: 0.03 %\n"
     ]
    }
   ],
   "source": [
    "# Validando o resultado\n",
    "\n",
    "# dados\n",
    "n = 10\n",
    "p = 1/6\n",
    "prob_bin = 0\n",
    "\n",
    "for k in range (7,11):\n",
    "    prob_bin += binom.pmf(k, n, p) * 100\n",
    "\n",
    "print(f'A probabilidade de ter vitória em pelo menos 7 jogadas é: {prob_bin:.2f} %')"
   ]
  }
 ],
 "metadata": {
  "kernelspec": {
   "display_name": "base",
   "language": "python",
   "name": "python3"
  },
  "language_info": {
   "codemirror_mode": {
    "name": "ipython",
    "version": 3
   },
   "file_extension": ".py",
   "mimetype": "text/x-python",
   "name": "python",
   "nbconvert_exporter": "python",
   "pygments_lexer": "ipython3",
   "version": "3.11.3"
  }
 },
 "nbformat": 4,
 "nbformat_minor": 5
}
