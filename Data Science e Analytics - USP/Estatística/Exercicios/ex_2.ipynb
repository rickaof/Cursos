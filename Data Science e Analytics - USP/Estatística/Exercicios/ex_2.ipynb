{
 "cells": [
  {
   "cell_type": "markdown",
   "id": "4a324e50",
   "metadata": {},
   "source": [
    "Exercício 2 - Enunciado\n",
    "\n",
    "Um analista do mercado acionário coletou os retornos mensais de duas\n",
    "ações que pretende indicar aos seus clientes. Calcule as estatísticas\n",
    "descritivas para as duas variáveis. O banco de dados com os retornos\n",
    "percentuais mensais está na planilha Lista de Exercício Complementares: aba\n",
    "Exercício 2. Posteriormente, analise o coeficiente de correlação de Pearson\n",
    "entre os retornos."
   ]
  },
  {
   "cell_type": "code",
   "execution_count": 2,
   "id": "adbc0698",
   "metadata": {},
   "outputs": [
    {
     "data": {
      "text/html": [
       "<div>\n",
       "<style scoped>\n",
       "    .dataframe tbody tr th:only-of-type {\n",
       "        vertical-align: middle;\n",
       "    }\n",
       "\n",
       "    .dataframe tbody tr th {\n",
       "        vertical-align: top;\n",
       "    }\n",
       "\n",
       "    .dataframe thead th {\n",
       "        text-align: right;\n",
       "    }\n",
       "</style>\n",
       "<table border=\"1\" class=\"dataframe\">\n",
       "  <thead>\n",
       "    <tr style=\"text-align: right;\">\n",
       "      <th></th>\n",
       "      <th>Meses</th>\n",
       "      <th>Ação 1</th>\n",
       "      <th>Ação 2</th>\n",
       "      <th>Unnamed: 3</th>\n",
       "      <th>Descritivas</th>\n",
       "      <th>Ação 1.1</th>\n",
       "      <th>Ação 2.1</th>\n",
       "      <th>Unnamed: 7</th>\n",
       "      <th>Posição</th>\n",
       "      <th>Ação 1.2</th>\n",
       "      <th>Ação 2.2</th>\n",
       "    </tr>\n",
       "  </thead>\n",
       "  <tbody>\n",
       "    <tr>\n",
       "      <th>0</th>\n",
       "      <td>1.0</td>\n",
       "      <td>-0.0212</td>\n",
       "      <td>0.2645</td>\n",
       "      <td>NaN</td>\n",
       "      <td>Nº Observações</td>\n",
       "      <td>23</td>\n",
       "      <td>23.000000</td>\n",
       "      <td>NaN</td>\n",
       "      <td>1.0</td>\n",
       "      <td>-0.2018</td>\n",
       "      <td>-0.1490</td>\n",
       "    </tr>\n",
       "    <tr>\n",
       "      <th>1</th>\n",
       "      <td>2.0</td>\n",
       "      <td>0.2438</td>\n",
       "      <td>0.2086</td>\n",
       "      <td>NaN</td>\n",
       "      <td>Média</td>\n",
       "      <td>0.035204</td>\n",
       "      <td>0.151135</td>\n",
       "      <td>NaN</td>\n",
       "      <td>2.0</td>\n",
       "      <td>-0.1591</td>\n",
       "      <td>-0.1410</td>\n",
       "    </tr>\n",
       "    <tr>\n",
       "      <th>2</th>\n",
       "      <td>3.0</td>\n",
       "      <td>0.2296</td>\n",
       "      <td>0.1248</td>\n",
       "      <td>NaN</td>\n",
       "      <td>Mediana</td>\n",
       "      <td>0.037</td>\n",
       "      <td>0.124800</td>\n",
       "      <td>NaN</td>\n",
       "      <td>3.0</td>\n",
       "      <td>-0.1111</td>\n",
       "      <td>-0.1059</td>\n",
       "    </tr>\n",
       "    <tr>\n",
       "      <th>3</th>\n",
       "      <td>4.0</td>\n",
       "      <td>-0.2018</td>\n",
       "      <td>0.0209</td>\n",
       "      <td>NaN</td>\n",
       "      <td>Moda</td>\n",
       "      <td>NaN</td>\n",
       "      <td>NaN</td>\n",
       "      <td>NaN</td>\n",
       "      <td>4.0</td>\n",
       "      <td>-0.1001</td>\n",
       "      <td>-0.0056</td>\n",
       "    </tr>\n",
       "    <tr>\n",
       "      <th>4</th>\n",
       "      <td>5.0</td>\n",
       "      <td>0.1296</td>\n",
       "      <td>0.2055</td>\n",
       "      <td>NaN</td>\n",
       "      <td>1º Quartil</td>\n",
       "      <td>-0.0612</td>\n",
       "      <td>0.020400</td>\n",
       "      <td>NaN</td>\n",
       "      <td>5.0</td>\n",
       "      <td>-0.0674</td>\n",
       "      <td>0.0160</td>\n",
       "    </tr>\n",
       "  </tbody>\n",
       "</table>\n",
       "</div>"
      ],
      "text/plain": [
       "   Meses  Ação 1  Ação 2  Unnamed: 3     Descritivas  Ação 1.1   Ação 2.1  \\\n",
       "0    1.0 -0.0212  0.2645         NaN  Nº Observações        23  23.000000   \n",
       "1    2.0  0.2438  0.2086         NaN           Média  0.035204   0.151135   \n",
       "2    3.0  0.2296  0.1248         NaN         Mediana     0.037   0.124800   \n",
       "3    4.0 -0.2018  0.0209         NaN            Moda       NaN        NaN   \n",
       "4    5.0  0.1296  0.2055         NaN      1º Quartil   -0.0612   0.020400   \n",
       "\n",
       "   Unnamed: 7  Posição  Ação 1.2  Ação 2.2  \n",
       "0         NaN      1.0   -0.2018   -0.1490  \n",
       "1         NaN      2.0   -0.1591   -0.1410  \n",
       "2         NaN      3.0   -0.1111   -0.1059  \n",
       "3         NaN      4.0   -0.1001   -0.0056  \n",
       "4         NaN      5.0   -0.0674    0.0160  "
      ]
     },
     "execution_count": 2,
     "metadata": {},
     "output_type": "execute_result"
    }
   ],
   "source": [
    "# Importando dados\n",
    "import os \n",
    "import pandas as pd\n",
    "import numpy as np\n",
    "from scipy.stats import t, pearsonr\n",
    "\n",
    "current_dir = os.getcwd()\n",
    "data_path = os.path.abspath(os.path.join(current_dir, '..', 'data'))\n",
    "arquivo = os.path.join(\n",
    "    data_path, ('Lista de Exercicios - Complementaresxlsx Portugues.xlsx'))\n",
    "dados = pd.read_excel(arquivo, sheet_name= 'Exercício 2')\n",
    "\n",
    "dados.head()"
   ]
  },
  {
   "cell_type": "code",
   "execution_count": 3,
   "id": "4b7c1fbc",
   "metadata": {},
   "outputs": [
    {
     "data": {
      "text/html": [
       "<div>\n",
       "<style scoped>\n",
       "    .dataframe tbody tr th:only-of-type {\n",
       "        vertical-align: middle;\n",
       "    }\n",
       "\n",
       "    .dataframe tbody tr th {\n",
       "        vertical-align: top;\n",
       "    }\n",
       "\n",
       "    .dataframe thead th {\n",
       "        text-align: right;\n",
       "    }\n",
       "</style>\n",
       "<table border=\"1\" class=\"dataframe\">\n",
       "  <thead>\n",
       "    <tr style=\"text-align: right;\">\n",
       "      <th></th>\n",
       "      <th>Meses</th>\n",
       "      <th>Ação 1</th>\n",
       "      <th>Ação 2</th>\n",
       "    </tr>\n",
       "  </thead>\n",
       "  <tbody>\n",
       "    <tr>\n",
       "      <th>0</th>\n",
       "      <td>1.0</td>\n",
       "      <td>-0.0212</td>\n",
       "      <td>0.2645</td>\n",
       "    </tr>\n",
       "    <tr>\n",
       "      <th>1</th>\n",
       "      <td>2.0</td>\n",
       "      <td>0.2438</td>\n",
       "      <td>0.2086</td>\n",
       "    </tr>\n",
       "    <tr>\n",
       "      <th>2</th>\n",
       "      <td>3.0</td>\n",
       "      <td>0.2296</td>\n",
       "      <td>0.1248</td>\n",
       "    </tr>\n",
       "    <tr>\n",
       "      <th>3</th>\n",
       "      <td>4.0</td>\n",
       "      <td>-0.2018</td>\n",
       "      <td>0.0209</td>\n",
       "    </tr>\n",
       "    <tr>\n",
       "      <th>4</th>\n",
       "      <td>5.0</td>\n",
       "      <td>0.1296</td>\n",
       "      <td>0.2055</td>\n",
       "    </tr>\n",
       "    <tr>\n",
       "      <th>5</th>\n",
       "      <td>6.0</td>\n",
       "      <td>0.0615</td>\n",
       "      <td>0.6260</td>\n",
       "    </tr>\n",
       "    <tr>\n",
       "      <th>6</th>\n",
       "      <td>7.0</td>\n",
       "      <td>-0.1591</td>\n",
       "      <td>-0.1490</td>\n",
       "    </tr>\n",
       "    <tr>\n",
       "      <th>7</th>\n",
       "      <td>8.0</td>\n",
       "      <td>-0.1001</td>\n",
       "      <td>0.2580</td>\n",
       "    </tr>\n",
       "    <tr>\n",
       "      <th>8</th>\n",
       "      <td>9.0</td>\n",
       "      <td>-0.0265</td>\n",
       "      <td>0.1722</td>\n",
       "    </tr>\n",
       "    <tr>\n",
       "      <th>9</th>\n",
       "      <td>10.0</td>\n",
       "      <td>0.0776</td>\n",
       "      <td>0.0199</td>\n",
       "    </tr>\n",
       "    <tr>\n",
       "      <th>10</th>\n",
       "      <td>11.0</td>\n",
       "      <td>0.0370</td>\n",
       "      <td>0.4331</td>\n",
       "    </tr>\n",
       "    <tr>\n",
       "      <th>11</th>\n",
       "      <td>12.0</td>\n",
       "      <td>0.1116</td>\n",
       "      <td>0.5482</td>\n",
       "    </tr>\n",
       "    <tr>\n",
       "      <th>12</th>\n",
       "      <td>13.0</td>\n",
       "      <td>-0.0667</td>\n",
       "      <td>0.0452</td>\n",
       "    </tr>\n",
       "    <tr>\n",
       "      <th>13</th>\n",
       "      <td>14.0</td>\n",
       "      <td>-0.0082</td>\n",
       "      <td>-0.1410</td>\n",
       "    </tr>\n",
       "    <tr>\n",
       "      <th>14</th>\n",
       "      <td>15.0</td>\n",
       "      <td>0.0119</td>\n",
       "      <td>-0.1059</td>\n",
       "    </tr>\n",
       "    <tr>\n",
       "      <th>15</th>\n",
       "      <td>16.0</td>\n",
       "      <td>0.1205</td>\n",
       "      <td>0.4074</td>\n",
       "    </tr>\n",
       "    <tr>\n",
       "      <th>16</th>\n",
       "      <td>17.0</td>\n",
       "      <td>0.0477</td>\n",
       "      <td>-0.0056</td>\n",
       "    </tr>\n",
       "    <tr>\n",
       "      <th>17</th>\n",
       "      <td>18.0</td>\n",
       "      <td>0.2814</td>\n",
       "      <td>0.1482</td>\n",
       "    </tr>\n",
       "    <tr>\n",
       "      <th>18</th>\n",
       "      <td>19.0</td>\n",
       "      <td>-0.0674</td>\n",
       "      <td>0.0753</td>\n",
       "    </tr>\n",
       "    <tr>\n",
       "      <th>19</th>\n",
       "      <td>20.0</td>\n",
       "      <td>0.0762</td>\n",
       "      <td>0.0899</td>\n",
       "    </tr>\n",
       "    <tr>\n",
       "      <th>20</th>\n",
       "      <td>21.0</td>\n",
       "      <td>-0.1111</td>\n",
       "      <td>0.0160</td>\n",
       "    </tr>\n",
       "    <tr>\n",
       "      <th>21</th>\n",
       "      <td>22.0</td>\n",
       "      <td>-0.0557</td>\n",
       "      <td>0.1805</td>\n",
       "    </tr>\n",
       "    <tr>\n",
       "      <th>22</th>\n",
       "      <td>23.0</td>\n",
       "      <td>0.1991</td>\n",
       "      <td>0.0334</td>\n",
       "    </tr>\n",
       "    <tr>\n",
       "      <th>23</th>\n",
       "      <td>NaN</td>\n",
       "      <td>NaN</td>\n",
       "      <td>NaN</td>\n",
       "    </tr>\n",
       "    <tr>\n",
       "      <th>24</th>\n",
       "      <td>NaN</td>\n",
       "      <td>NaN</td>\n",
       "      <td>NaN</td>\n",
       "    </tr>\n",
       "    <tr>\n",
       "      <th>25</th>\n",
       "      <td>NaN</td>\n",
       "      <td>NaN</td>\n",
       "      <td>NaN</td>\n",
       "    </tr>\n",
       "    <tr>\n",
       "      <th>26</th>\n",
       "      <td>NaN</td>\n",
       "      <td>NaN</td>\n",
       "      <td>NaN</td>\n",
       "    </tr>\n",
       "    <tr>\n",
       "      <th>27</th>\n",
       "      <td>NaN</td>\n",
       "      <td>NaN</td>\n",
       "      <td>NaN</td>\n",
       "    </tr>\n",
       "  </tbody>\n",
       "</table>\n",
       "</div>"
      ],
      "text/plain": [
       "    Meses  Ação 1  Ação 2\n",
       "0     1.0 -0.0212  0.2645\n",
       "1     2.0  0.2438  0.2086\n",
       "2     3.0  0.2296  0.1248\n",
       "3     4.0 -0.2018  0.0209\n",
       "4     5.0  0.1296  0.2055\n",
       "5     6.0  0.0615  0.6260\n",
       "6     7.0 -0.1591 -0.1490\n",
       "7     8.0 -0.1001  0.2580\n",
       "8     9.0 -0.0265  0.1722\n",
       "9    10.0  0.0776  0.0199\n",
       "10   11.0  0.0370  0.4331\n",
       "11   12.0  0.1116  0.5482\n",
       "12   13.0 -0.0667  0.0452\n",
       "13   14.0 -0.0082 -0.1410\n",
       "14   15.0  0.0119 -0.1059\n",
       "15   16.0  0.1205  0.4074\n",
       "16   17.0  0.0477 -0.0056\n",
       "17   18.0  0.2814  0.1482\n",
       "18   19.0 -0.0674  0.0753\n",
       "19   20.0  0.0762  0.0899\n",
       "20   21.0 -0.1111  0.0160\n",
       "21   22.0 -0.0557  0.1805\n",
       "22   23.0  0.1991  0.0334\n",
       "23    NaN     NaN     NaN\n",
       "24    NaN     NaN     NaN\n",
       "25    NaN     NaN     NaN\n",
       "26    NaN     NaN     NaN\n",
       "27    NaN     NaN     NaN"
      ]
     },
     "execution_count": 3,
     "metadata": {},
     "output_type": "execute_result"
    }
   ],
   "source": [
    "resolucao_df = dados[['Meses', 'Ação 1', 'Ação 2']]\n",
    "resolucao_df"
   ]
  },
  {
   "cell_type": "code",
   "execution_count": 4,
   "id": "6a6580e0",
   "metadata": {},
   "outputs": [
    {
     "data": {
      "text/plain": [
       "Meses     5\n",
       "Ação 1    5\n",
       "Ação 2    5\n",
       "dtype: int64"
      ]
     },
     "execution_count": 4,
     "metadata": {},
     "output_type": "execute_result"
    }
   ],
   "source": [
    "resolucao_df.isnull().sum()"
   ]
  },
  {
   "cell_type": "code",
   "execution_count": 5,
   "id": "88e8b5a6",
   "metadata": {},
   "outputs": [],
   "source": [
    "resolucao_df = resolucao_df.dropna()"
   ]
  },
  {
   "cell_type": "code",
   "execution_count": 6,
   "id": "e505f459",
   "metadata": {},
   "outputs": [],
   "source": [
    "resolucao_df.set_index('Meses', inplace=True)"
   ]
  },
  {
   "cell_type": "code",
   "execution_count": 7,
   "id": "e765131d",
   "metadata": {},
   "outputs": [
    {
     "data": {
      "text/html": [
       "<div>\n",
       "<style scoped>\n",
       "    .dataframe tbody tr th:only-of-type {\n",
       "        vertical-align: middle;\n",
       "    }\n",
       "\n",
       "    .dataframe tbody tr th {\n",
       "        vertical-align: top;\n",
       "    }\n",
       "\n",
       "    .dataframe thead th {\n",
       "        text-align: right;\n",
       "    }\n",
       "</style>\n",
       "<table border=\"1\" class=\"dataframe\">\n",
       "  <thead>\n",
       "    <tr style=\"text-align: right;\">\n",
       "      <th></th>\n",
       "      <th>Ação 1</th>\n",
       "      <th>Ação 2</th>\n",
       "    </tr>\n",
       "  </thead>\n",
       "  <tbody>\n",
       "    <tr>\n",
       "      <th>count</th>\n",
       "      <td>23.000000</td>\n",
       "      <td>23.000000</td>\n",
       "    </tr>\n",
       "    <tr>\n",
       "      <th>mean</th>\n",
       "      <td>0.035204</td>\n",
       "      <td>0.151135</td>\n",
       "    </tr>\n",
       "    <tr>\n",
       "      <th>std</th>\n",
       "      <td>0.129221</td>\n",
       "      <td>0.203822</td>\n",
       "    </tr>\n",
       "    <tr>\n",
       "      <th>min</th>\n",
       "      <td>-0.201800</td>\n",
       "      <td>-0.149000</td>\n",
       "    </tr>\n",
       "    <tr>\n",
       "      <th>25%</th>\n",
       "      <td>-0.061200</td>\n",
       "      <td>0.020400</td>\n",
       "    </tr>\n",
       "    <tr>\n",
       "      <th>50%</th>\n",
       "      <td>0.037000</td>\n",
       "      <td>0.124800</td>\n",
       "    </tr>\n",
       "    <tr>\n",
       "      <th>75%</th>\n",
       "      <td>0.116050</td>\n",
       "      <td>0.233300</td>\n",
       "    </tr>\n",
       "    <tr>\n",
       "      <th>max</th>\n",
       "      <td>0.281400</td>\n",
       "      <td>0.626000</td>\n",
       "    </tr>\n",
       "  </tbody>\n",
       "</table>\n",
       "</div>"
      ],
      "text/plain": [
       "          Ação 1     Ação 2\n",
       "count  23.000000  23.000000\n",
       "mean    0.035204   0.151135\n",
       "std     0.129221   0.203822\n",
       "min    -0.201800  -0.149000\n",
       "25%    -0.061200   0.020400\n",
       "50%     0.037000   0.124800\n",
       "75%     0.116050   0.233300\n",
       "max     0.281400   0.626000"
      ]
     },
     "execution_count": 7,
     "metadata": {},
     "output_type": "execute_result"
    }
   ],
   "source": [
    "# Verificando dados\n",
    "resolucao_df.describe()"
   ]
  },
  {
   "cell_type": "code",
   "execution_count": 8,
   "id": "d3f4af72",
   "metadata": {},
   "outputs": [],
   "source": [
    "# Correlação de pearson\n",
    "X = resolucao_df['Ação 1'].to_numpy()\n",
    "y = resolucao_df['Ação 2'].to_numpy()\n"
   ]
  },
  {
   "cell_type": "code",
   "execution_count": 9,
   "id": "1a58e297",
   "metadata": {},
   "outputs": [
    {
     "name": "stdout",
     "output_type": "stream",
     "text": [
      "As médias são 0.0352 para Ação 1 e 0.1511 para a ação 2.\n"
     ]
    }
   ],
   "source": [
    "# Cálculo das médias\n",
    "X_mean = X.mean()\n",
    "y_mean = y.mean()\n",
    "\n",
    "print(f'As médias são {X_mean:.4f} para Ação 1 e {y_mean:.4f} para a ação 2.')"
   ]
  },
  {
   "cell_type": "code",
   "execution_count": 10,
   "id": "a348a338",
   "metadata": {},
   "outputs": [
    {
     "name": "stdout",
     "output_type": "stream",
     "text": [
      "Soma dos produtos cruzados dos desvios: 0.16851142652173917\n"
     ]
    }
   ],
   "source": [
    "# Cálculos dos desvios e produtos cruzados\n",
    "total_desvios = np.sum((X-X_mean)*(y-y_mean))\n",
    "print(\"Soma dos produtos cruzados dos desvios:\", total_desvios)"
   ]
  },
  {
   "cell_type": "code",
   "execution_count": 11,
   "id": "b52cd816",
   "metadata": {},
   "outputs": [
    {
     "name": "stdout",
     "output_type": "stream",
     "text": [
      "Os desvios padrão são 0.1264 e 0.1993, respectivamente.\n"
     ]
    }
   ],
   "source": [
    "# Cálculo dos desvios\n",
    "sx = X.std()\n",
    "sy = y.std()\n",
    "\n",
    "print(f'Os desvios padrão são {sx:.4f} e {sy:.4f}, respectivamente.')"
   ]
  },
  {
   "cell_type": "code",
   "execution_count": 12,
   "id": "d268d04d",
   "metadata": {},
   "outputs": [
    {
     "name": "stdout",
     "output_type": "stream",
     "text": [
      "A correlação de pearson é: 0.290818976586772\n"
     ]
    }
   ],
   "source": [
    "# Substituir na formula de correlção de Pearson (r = ∑(xi−x̄)(yi−ȳ) / ((n−1)⋅sx⋅sy))\n",
    "r = total_desvios / ((len(X))*sx*sy)\n",
    "print(f'A correlação de pearson é: {r}')"
   ]
  },
  {
   "cell_type": "code",
   "execution_count": 13,
   "id": "182bda2f",
   "metadata": {},
   "outputs": [
    {
     "data": {
      "text/html": [
       "<div>\n",
       "<style scoped>\n",
       "    .dataframe tbody tr th:only-of-type {\n",
       "        vertical-align: middle;\n",
       "    }\n",
       "\n",
       "    .dataframe tbody tr th {\n",
       "        vertical-align: top;\n",
       "    }\n",
       "\n",
       "    .dataframe thead th {\n",
       "        text-align: right;\n",
       "    }\n",
       "</style>\n",
       "<table border=\"1\" class=\"dataframe\">\n",
       "  <thead>\n",
       "    <tr style=\"text-align: right;\">\n",
       "      <th></th>\n",
       "      <th>Ação 1</th>\n",
       "      <th>Ação 2</th>\n",
       "    </tr>\n",
       "  </thead>\n",
       "  <tbody>\n",
       "    <tr>\n",
       "      <th>Ação 1</th>\n",
       "      <td>1.000000</td>\n",
       "      <td>0.290819</td>\n",
       "    </tr>\n",
       "    <tr>\n",
       "      <th>Ação 2</th>\n",
       "      <td>0.290819</td>\n",
       "      <td>1.000000</td>\n",
       "    </tr>\n",
       "  </tbody>\n",
       "</table>\n",
       "</div>"
      ],
      "text/plain": [
       "          Ação 1    Ação 2\n",
       "Ação 1  1.000000  0.290819\n",
       "Ação 2  0.290819  1.000000"
      ]
     },
     "execution_count": 13,
     "metadata": {},
     "output_type": "execute_result"
    }
   ],
   "source": [
    "# Correlação através da biblioteca\n",
    "correlacao = resolucao_df[['Ação 1','Ação 2']].corr()\n",
    "correlacao"
   ]
  },
  {
   "cell_type": "code",
   "execution_count": 14,
   "id": "9fad18d3",
   "metadata": {},
   "outputs": [
    {
     "name": "stdout",
     "output_type": "stream",
     "text": [
      "Coeficiente de correlação (r): 0.2908\n",
      "Valor-p: 0.1782\n"
     ]
    }
   ],
   "source": [
    "# Teste de Hipótese\n",
    "# Coeficiente de correlação e p-valor\n",
    "r, p_valor = pearsonr(X,y)\n",
    "\n",
    "print(f\"Coeficiente de correlação (r): {r:.4f}\")\n",
    "print(f\"Valor-p: {p_valor:.4f}\")"
   ]
  },
  {
   "cell_type": "code",
   "execution_count": 25,
   "id": "9df5fbbb",
   "metadata": {},
   "outputs": [
    {
     "name": "stdout",
     "output_type": "stream",
     "text": [
      "t de Student: 1.3929\n"
     ]
    }
   ],
   "source": [
    "# Estatística t \n",
    "n = len(X)\n",
    "t_calc = r * np.sqrt(n - 2) / np.sqrt(1 - r**2)\n",
    "gl = n - 2\n",
    "\n",
    "print(f\"t de Student: {t_calc:.4f}\")"
   ]
  },
  {
   "cell_type": "code",
   "execution_count": 23,
   "id": "207bc383",
   "metadata": {},
   "outputs": [
    {
     "name": "stdout",
     "output_type": "stream",
     "text": [
      "O valor do t crítico é: 2.0859634472658364\n"
     ]
    }
   ],
   "source": [
    "# Cálculo de t crítico para teste de hipótese bilateral\n",
    "# Parâmetros\n",
    "alpha = 0.05\n",
    "df = 22 - 2\n",
    "\n",
    "# Teste bilateral\n",
    "t_critico = t.ppf(1 - alpha/2, df)\n",
    "print(f'O valor do t crítico é: {t_critico}')  "
   ]
  },
  {
   "cell_type": "code",
   "execution_count": 26,
   "id": "a01e5479",
   "metadata": {},
   "outputs": [
    {
     "name": "stdout",
     "output_type": "stream",
     "text": [
      "Não rejeita H0: a correlação não é estatisticamente significativa.\n"
     ]
    }
   ],
   "source": [
    "# Decisão\n",
    "if abs(t_calc) > t_critico:\n",
    "    print(\"Rejeita H0: a correlação é estatisticamente significativa.\")\n",
    "else:\n",
    "    print(\"Não rejeita H0: a correlação não é estatisticamente significativa.\")"
   ]
  }
 ],
 "metadata": {
  "kernelspec": {
   "display_name": "base",
   "language": "python",
   "name": "python3"
  },
  "language_info": {
   "codemirror_mode": {
    "name": "ipython",
    "version": 3
   },
   "file_extension": ".py",
   "mimetype": "text/x-python",
   "name": "python",
   "nbconvert_exporter": "python",
   "pygments_lexer": "ipython3",
   "version": "3.11.3"
  }
 },
 "nbformat": 4,
 "nbformat_minor": 5
}
