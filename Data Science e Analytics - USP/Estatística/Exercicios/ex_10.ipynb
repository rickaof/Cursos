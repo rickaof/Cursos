{
 "cells": [
  {
   "cell_type": "markdown",
   "id": "5754d15d",
   "metadata": {},
   "source": [
    "Exercício 10 - Enunciado:\n",
    "\n",
    "Um fabricante de iogurtes\n",
    "desnatados afirma que a quantidade de calorias em cada pote é 60 cal. Para\n",
    "verificar se essa informação procede, uma amostra aleatória com 36 potes é\n",
    "coletada, observando-se que a quantidade média de calorias é de 65 cal com\n",
    "desvio-padrão 3,5. Aplique o teste adequado e verifique se a afirmação do\n",
    "fabricante é verdadeira, considerando o nível de significância de 5%.\n"
   ]
  },
  {
   "cell_type": "code",
   "execution_count": 6,
   "id": "4ecb1bf9",
   "metadata": {},
   "outputs": [
    {
     "name": "stdout",
     "output_type": "stream",
     "text": [
      "O valor do t crítico é: 2.03\n"
     ]
    }
   ],
   "source": [
    "# Realizando o teste t para teste de hipótese\n",
    "# Hipótese = 0 --> A quantidade de caloria em cada pote é 60 cal para um nível de significância de 5%.\n",
    "\n",
    "import pandas as pandas\n",
    "import numpy as np\n",
    "from scipy.stats import t\n",
    "\n",
    "# Teste t bilateral\n",
    "media = 65\n",
    "media_esperada = 60\n",
    "desvio = 3.5\n",
    "alpha = 0.05\n",
    "n = 36 \n",
    "\n",
    "# Teste bilateral\n",
    "t_critico = t.ppf(1 - alpha/2, df= n-2)\n",
    "print(f'O valor do t crítico é: {t_critico:.2f}') "
   ]
  },
  {
   "cell_type": "code",
   "execution_count": 5,
   "id": "83651496",
   "metadata": {},
   "outputs": [
    {
     "name": "stdout",
     "output_type": "stream",
     "text": [
      "O t calculado é : 8.57\n"
     ]
    }
   ],
   "source": [
    "# Estatística t\n",
    "\n",
    "t_calc = (media - media_esperada) / (desvio/np.sqrt(n))\n",
    "print(f'O t calculado é : {t_calc:.2f}')\n"
   ]
  },
  {
   "cell_type": "code",
   "execution_count": 7,
   "id": "efb70ccc",
   "metadata": {},
   "outputs": [
    {
     "name": "stdout",
     "output_type": "stream",
     "text": [
      "O t calculado é superior ao t crítico, portanto conclui-se que as médias são estatísticamente diferentes.\n"
     ]
    }
   ],
   "source": [
    "# Resultado\n",
    "if t_calc > t_critico:\n",
    "    print(f'O t calculado é superior ao t crítico, portanto conclui-se que as médias são estatísticamente diferentes.')\n",
    "else:\n",
    "    print('As amostras são estatísticamente iguais.')"
   ]
  },
  {
   "cell_type": "code",
   "execution_count": null,
   "id": "b0bcf67a",
   "metadata": {},
   "outputs": [],
   "source": []
  }
 ],
 "metadata": {
  "kernelspec": {
   "display_name": "base",
   "language": "python",
   "name": "python3"
  },
  "language_info": {
   "codemirror_mode": {
    "name": "ipython",
    "version": 3
   },
   "file_extension": ".py",
   "mimetype": "text/x-python",
   "name": "python",
   "nbconvert_exporter": "python",
   "pygments_lexer": "ipython3",
   "version": "3.11.3"
  }
 },
 "nbformat": 4,
 "nbformat_minor": 5
}
