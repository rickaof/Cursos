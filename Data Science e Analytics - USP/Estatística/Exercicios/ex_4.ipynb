{
 "cells": [
  {
   "cell_type": "markdown",
   "id": "411d688d",
   "metadata": {},
   "source": [
    "Exercício 4 - Enunciado\n",
    "(Fonte: Fávero e Belfiore, 2024, Cap. 5) Suponha que um aluno acerte três\n",
    "questões a cada cinco testes. Seja X o número de tentativas até o décimo\n",
    "segundo acerto. Determine a probabilidade de que o aluno precise fazer 20\n",
    "questões para acertar 12."
   ]
  },
  {
   "cell_type": "code",
   "execution_count": 8,
   "id": "2b62b8e1",
   "metadata": {},
   "outputs": [
    {
     "name": "stdout",
     "output_type": "stream",
     "text": [
      "A combinação (x-1,k-1) é: 75582.0\n",
      "A probabilidade de ter vitória em 4 jogadas é: 0.11 %\n"
     ]
    }
   ],
   "source": [
    "# Equação matemática para um problema de distribuição binomial negativa: 𝑷 (𝑿 = 𝒙) = C (𝒙−𝟏,𝒌−𝟏).𝒑^𝒌.(𝟏−𝒑)^(𝒙−𝒌),\n",
    "# em que C(𝒙−𝟏,𝒌−𝟏) = (𝒙−𝟏)!/(𝒌−𝟏)![(𝒙−𝟏) − (𝒌−𝟏)]! \n",
    "\n",
    "from math import factorial\n",
    "\n",
    "# dados\n",
    "x = 20\n",
    "k = 12\n",
    "p = 3/5\n",
    "\n",
    "# Cálculo\n",
    "combinacao = factorial(x-1)/(factorial(k-1)*factorial((x-1) - (k-1)))\n",
    "prob = combinacao*p**k*(1-p)**(x-k)\n",
    "\n",
    "print(f'A combinação (x-1,k-1) é: {combinacao}')\n",
    "print(f'A probabilidade de ter vitória em 4 jogadas é: {prob:.2f} %') \n"
   ]
  },
  {
   "cell_type": "code",
   "execution_count": 16,
   "id": "9e076a51",
   "metadata": {},
   "outputs": [
    {
     "name": "stdout",
     "output_type": "stream",
     "text": [
      "A probabilidade de ter vitória em 4 jogadas é: 0.11 %\n"
     ]
    }
   ],
   "source": [
    "# Validação dos resultados\n",
    "from scipy.stats import nbinom\n",
    "# Dados\n",
    "p = 3/5\n",
    "x = 20\n",
    "k = 12\n",
    "\n",
    "falhas = x-k\n",
    "\n",
    "# Cálculo\n",
    "prob_nbin = nbinom.pmf(falhas, k, p)\n",
    "print(f'A probabilidade de ter vitória em 4 jogadas é: {prob_nbin:.2f} %') "
   ]
  },
  {
   "cell_type": "code",
   "execution_count": null,
   "id": "93d34221",
   "metadata": {},
   "outputs": [],
   "source": []
  }
 ],
 "metadata": {
  "kernelspec": {
   "display_name": "base",
   "language": "python",
   "name": "python3"
  },
  "language_info": {
   "codemirror_mode": {
    "name": "ipython",
    "version": 3
   },
   "file_extension": ".py",
   "mimetype": "text/x-python",
   "name": "python",
   "nbconvert_exporter": "python",
   "pygments_lexer": "ipython3",
   "version": "3.11.3"
  }
 },
 "nbformat": 4,
 "nbformat_minor": 5
}
