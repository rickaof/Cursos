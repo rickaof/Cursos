{
 "cells": [
  {
   "cell_type": "markdown",
   "id": "b5cc369d",
   "metadata": {},
   "source": [
    "## Carregando os dados"
   ]
  },
  {
   "cell_type": "code",
   "execution_count": 3,
   "id": "a53a8cab",
   "metadata": {},
   "outputs": [],
   "source": [
    "# Importando as bibliotecas\n",
    "import os\n",
    "import pandas as pd\n",
    "import numpy as np\n",
    "import matplotlib.pyplot as plt\n",
    "import seaborn as sns\n",
    "from sklearn.tree import DecisionTreeClassifier\n",
    "from sklearn.model_selection import train_test_split"
   ]
  },
  {
   "cell_type": "code",
   "execution_count": 4,
   "id": "342d21fb",
   "metadata": {},
   "outputs": [
    {
     "data": {
      "text/html": [
       "<div>\n",
       "<style scoped>\n",
       "    .dataframe tbody tr th:only-of-type {\n",
       "        vertical-align: middle;\n",
       "    }\n",
       "\n",
       "    .dataframe tbody tr th {\n",
       "        vertical-align: top;\n",
       "    }\n",
       "\n",
       "    .dataframe thead th {\n",
       "        text-align: right;\n",
       "    }\n",
       "</style>\n",
       "<table border=\"1\" class=\"dataframe\">\n",
       "  <thead>\n",
       "    <tr style=\"text-align: right;\">\n",
       "      <th></th>\n",
       "      <th>receita_cliente</th>\n",
       "      <th>anuidade_emprestimo</th>\n",
       "      <th>anos_casa_propria</th>\n",
       "      <th>telefone_trab</th>\n",
       "      <th>avaliacao_cidade</th>\n",
       "      <th>score_1</th>\n",
       "      <th>score_2</th>\n",
       "      <th>score_3</th>\n",
       "      <th>score_social</th>\n",
       "      <th>troca_telefone</th>\n",
       "      <th>inadimplente</th>\n",
       "    </tr>\n",
       "  </thead>\n",
       "  <tbody>\n",
       "    <tr>\n",
       "      <th>0</th>\n",
       "      <td>12600.000000</td>\n",
       "      <td>3569.400000</td>\n",
       "      <td>12.157324</td>\n",
       "      <td>1</td>\n",
       "      <td>2.0</td>\n",
       "      <td>0.057153</td>\n",
       "      <td>0.527227</td>\n",
       "      <td>0.513171</td>\n",
       "      <td>0.117428</td>\n",
       "      <td>2545.000000</td>\n",
       "      <td>0</td>\n",
       "    </tr>\n",
       "    <tr>\n",
       "      <th>1</th>\n",
       "      <td>9000.000000</td>\n",
       "      <td>2722.188351</td>\n",
       "      <td>7.000000</td>\n",
       "      <td>0</td>\n",
       "      <td>2.0</td>\n",
       "      <td>0.657661</td>\n",
       "      <td>0.285898</td>\n",
       "      <td>0.614414</td>\n",
       "      <td>0.222700</td>\n",
       "      <td>495.000000</td>\n",
       "      <td>0</td>\n",
       "    </tr>\n",
       "    <tr>\n",
       "      <th>2</th>\n",
       "      <td>15750.000000</td>\n",
       "      <td>4477.500000</td>\n",
       "      <td>12.000000</td>\n",
       "      <td>0</td>\n",
       "      <td>2.0</td>\n",
       "      <td>0.501213</td>\n",
       "      <td>0.695423</td>\n",
       "      <td>0.513171</td>\n",
       "      <td>0.117428</td>\n",
       "      <td>1212.000000</td>\n",
       "      <td>0</td>\n",
       "    </tr>\n",
       "    <tr>\n",
       "      <th>3</th>\n",
       "      <td>9000.000000</td>\n",
       "      <td>1309.050000</td>\n",
       "      <td>12.157324</td>\n",
       "      <td>0</td>\n",
       "      <td>3.0</td>\n",
       "      <td>0.501213</td>\n",
       "      <td>0.155973</td>\n",
       "      <td>0.513171</td>\n",
       "      <td>0.117428</td>\n",
       "      <td>515.000000</td>\n",
       "      <td>0</td>\n",
       "    </tr>\n",
       "    <tr>\n",
       "      <th>4</th>\n",
       "      <td>7650.000000</td>\n",
       "      <td>1125.000000</td>\n",
       "      <td>12.157324</td>\n",
       "      <td>0</td>\n",
       "      <td>2.0</td>\n",
       "      <td>0.294328</td>\n",
       "      <td>0.152076</td>\n",
       "      <td>0.513171</td>\n",
       "      <td>0.117428</td>\n",
       "      <td>162.000000</td>\n",
       "      <td>0</td>\n",
       "    </tr>\n",
       "    <tr>\n",
       "      <th>...</th>\n",
       "      <td>...</td>\n",
       "      <td>...</td>\n",
       "      <td>...</td>\n",
       "      <td>...</td>\n",
       "      <td>...</td>\n",
       "      <td>...</td>\n",
       "      <td>...</td>\n",
       "      <td>...</td>\n",
       "      <td>...</td>\n",
       "      <td>...</td>\n",
       "      <td>...</td>\n",
       "    </tr>\n",
       "    <tr>\n",
       "      <th>54020</th>\n",
       "      <td>16855.246324</td>\n",
       "      <td>675.000000</td>\n",
       "      <td>12.157324</td>\n",
       "      <td>1</td>\n",
       "      <td>2.0</td>\n",
       "      <td>0.501213</td>\n",
       "      <td>0.180635</td>\n",
       "      <td>0.513171</td>\n",
       "      <td>0.082500</td>\n",
       "      <td>0.000000</td>\n",
       "      <td>1</td>\n",
       "    </tr>\n",
       "    <tr>\n",
       "      <th>54021</th>\n",
       "      <td>11250.000000</td>\n",
       "      <td>675.000000</td>\n",
       "      <td>14.000000</td>\n",
       "      <td>0</td>\n",
       "      <td>3.0</td>\n",
       "      <td>0.409620</td>\n",
       "      <td>0.606002</td>\n",
       "      <td>0.513171</td>\n",
       "      <td>0.117428</td>\n",
       "      <td>466.000000</td>\n",
       "      <td>1</td>\n",
       "    </tr>\n",
       "    <tr>\n",
       "      <th>54022</th>\n",
       "      <td>13500.000000</td>\n",
       "      <td>900.000000</td>\n",
       "      <td>64.000000</td>\n",
       "      <td>0</td>\n",
       "      <td>2.0</td>\n",
       "      <td>0.162632</td>\n",
       "      <td>0.525412</td>\n",
       "      <td>0.513171</td>\n",
       "      <td>0.117428</td>\n",
       "      <td>962.106056</td>\n",
       "      <td>1</td>\n",
       "    </tr>\n",
       "    <tr>\n",
       "      <th>54023</th>\n",
       "      <td>11250.000000</td>\n",
       "      <td>2371.500000</td>\n",
       "      <td>12.157324</td>\n",
       "      <td>0</td>\n",
       "      <td>3.0</td>\n",
       "      <td>0.501213</td>\n",
       "      <td>0.664027</td>\n",
       "      <td>0.513171</td>\n",
       "      <td>0.117428</td>\n",
       "      <td>482.000000</td>\n",
       "      <td>1</td>\n",
       "    </tr>\n",
       "    <tr>\n",
       "      <th>54024</th>\n",
       "      <td>21060.000000</td>\n",
       "      <td>2459.250000</td>\n",
       "      <td>12.157324</td>\n",
       "      <td>0</td>\n",
       "      <td>2.0</td>\n",
       "      <td>0.339656</td>\n",
       "      <td>0.656468</td>\n",
       "      <td>0.513171</td>\n",
       "      <td>0.117428</td>\n",
       "      <td>0.000000</td>\n",
       "      <td>1</td>\n",
       "    </tr>\n",
       "  </tbody>\n",
       "</table>\n",
       "<p>54025 rows × 11 columns</p>\n",
       "</div>"
      ],
      "text/plain": [
       "       receita_cliente  anuidade_emprestimo  ...  troca_telefone  inadimplente\n",
       "0         12600.000000          3569.400000  ...     2545.000000             0\n",
       "1          9000.000000          2722.188351  ...      495.000000             0\n",
       "2         15750.000000          4477.500000  ...     1212.000000             0\n",
       "3          9000.000000          1309.050000  ...      515.000000             0\n",
       "4          7650.000000          1125.000000  ...      162.000000             0\n",
       "...                ...                  ...  ...             ...           ...\n",
       "54020     16855.246324           675.000000  ...        0.000000             1\n",
       "54021     11250.000000           675.000000  ...      466.000000             1\n",
       "54022     13500.000000           900.000000  ...      962.106056             1\n",
       "54023     11250.000000          2371.500000  ...      482.000000             1\n",
       "54024     21060.000000          2459.250000  ...        0.000000             1\n",
       "\n",
       "[54025 rows x 11 columns]"
      ]
     },
     "execution_count": 4,
     "metadata": {},
     "output_type": "execute_result"
    }
   ],
   "source": [
    "# Lendo o arquivo\n",
    "current_dir = os.getcwd()\n",
    "data_path = os.path.abspath(os.path.join(current_dir, \"..\", \"data\", \"raw\"))\n",
    "dados = pd.read_csv(os.path.join(data_path, \"emp_automovel.csv\"))\n",
    "dados"
   ]
  },
  {
   "cell_type": "markdown",
   "id": "09e6c6bc",
   "metadata": {},
   "source": [
    "## Modelagem"
   ]
  },
  {
   "cell_type": "code",
   "execution_count": 5,
   "id": "a3842097",
   "metadata": {},
   "outputs": [],
   "source": [
    "# Separação de dados - Variável alvo e variáveis explicativas\n",
    "x = dados.drop('inadimplente', axis=1)\n",
    "y = dados['inadimplente']"
   ]
  },
  {
   "cell_type": "code",
   "execution_count": 6,
   "id": "28a1206c",
   "metadata": {},
   "outputs": [
    {
     "data": {
      "text/plain": [
       "1.0"
      ]
     },
     "execution_count": 6,
     "metadata": {},
     "output_type": "execute_result"
    }
   ],
   "source": [
    "# Modelo - Árvore de Decisão\n",
    "modelo = DecisionTreeClassifier()\n",
    "modelo.fit(x, y)\n",
    "modelo.score(x, y)"
   ]
  },
  {
   "cell_type": "code",
   "execution_count": 7,
   "id": "bef11c75",
   "metadata": {},
   "outputs": [
    {
     "name": "stdout",
     "output_type": "stream",
     "text": [
      "Acurácia: 1.0\n"
     ]
    }
   ],
   "source": [
    "print(f'Acurácia: {modelo.score(x,y)}')"
   ]
  },
  {
   "cell_type": "markdown",
   "id": "48b9cfb0",
   "metadata": {},
   "source": [
    "#### Aprimorando o modelo"
   ]
  },
  {
   "cell_type": "code",
   "execution_count": 8,
   "id": "dacd8067",
   "metadata": {},
   "outputs": [],
   "source": [
    "# Separação dos dados em treino, validação e teste.\n",
    "x, x_teste, y, y_teste = train_test_split(x,y, test_size=0.15, stratify = y, random_state=5)\n",
    "x_treino, x_val, y_treino, y_val = train_test_split(x, y, stratify=y, random_state=5)\n"
   ]
  },
  {
   "cell_type": "code",
   "execution_count": 9,
   "id": "57587556",
   "metadata": {},
   "outputs": [
    {
     "name": "stdout",
     "output_type": "stream",
     "text": [
      "Acurácia de treino: 1.0\n",
      "Acurácia de validação: 0.8486194582353453\n"
     ]
    }
   ],
   "source": [
    "# Validando o Modelo\n",
    "modelo = DecisionTreeClassifier()\n",
    "modelo.fit(x_treino, y_treino)\n",
    "print(f'Acurácia de treino: {modelo.score(x_treino, y_treino)}')\n",
    "print(f'Acurácia de validação: {modelo.score(x_val, y_val)}')"
   ]
  },
  {
   "cell_type": "code",
   "execution_count": 10,
   "id": "2551e18d",
   "metadata": {},
   "outputs": [
    {
     "name": "stdout",
     "output_type": "stream",
     "text": [
      "Acurácia de treino: 0.9205865272938444\n",
      "Acurácia de validação: 0.9057573382109573\n"
     ]
    }
   ],
   "source": [
    "# Validando o Modelo, restrindindo a profundidade da árvore.\n",
    "modelo = DecisionTreeClassifier(max_depth=10)\n",
    "modelo.fit(x_treino, y_treino)\n",
    "print(f'Acurácia de treino: {modelo.score(x_treino, y_treino)}')\n",
    "print(f'Acurácia de validação: {modelo.score(x_val, y_val)}')"
   ]
  },
  {
   "cell_type": "code",
   "execution_count": 11,
   "id": "ec313ff4",
   "metadata": {},
   "outputs": [],
   "source": [
    "# Matriz de Confusão\n",
    "from sklearn.metrics import confusion_matrix"
   ]
  },
  {
   "cell_type": "code",
   "execution_count": 12,
   "id": "abfbd7de",
   "metadata": {},
   "outputs": [
    {
     "name": "stdout",
     "output_type": "stream",
     "text": [
      "[[10358   121]\n",
      " [  961    41]]\n"
     ]
    }
   ],
   "source": [
    "# Armazenar os dados preditos\n",
    "y_previsto = modelo.predict(x_val)\n",
    "matriz_confusão = confusion_matrix (y_val, y_previsto)\n",
    "print(matriz_confusão)"
   ]
  },
  {
   "cell_type": "code",
   "execution_count": 13,
   "id": "56eed5e3",
   "metadata": {},
   "outputs": [
    {
     "data": {
      "image/png": "[encoded data removed]",
      "text/plain": [
       "<Figure size 640x480 with 2 Axes>"
      ]
     },
     "metadata": {},
     "output_type": "display_data"
    }
   ],
   "source": [
    "# Melhorando a visualização da matriz de confusão\n",
    "from sklearn.metrics import ConfusionMatrixDisplay\n",
    "\n",
    "visualizacao = ConfusionMatrixDisplay(confusion_matrix= matriz_confusão, display_labels=['Adimplente', 'Inadimplente'])\n",
    "visualizacao.plot();"
   ]
  },
  {
   "cell_type": "code",
   "execution_count": 14,
   "id": "08f402a3",
   "metadata": {},
   "outputs": [
    {
     "name": "stdout",
     "output_type": "stream",
     "text": [
      "Acurácia: 0.9057573382109573\n"
     ]
    }
   ],
   "source": [
    "# Acurácia\n",
    "from sklearn.metrics import accuracy_score\n",
    "print(f'Acurácia: {accuracy_score(y_val, y_previsto)}')\n"
   ]
  },
  {
   "cell_type": "code",
   "execution_count": 15,
   "id": "6d0d8c50",
   "metadata": {},
   "outputs": [
    {
     "name": "stdout",
     "output_type": "stream",
     "text": [
      "Precisão: 0.25308641975308643\n",
      "Recall: 0.04091816367265469\n"
     ]
    }
   ],
   "source": [
    "# Precisao e Recall\n",
    "from sklearn.metrics import precision_score, recall_score\n",
    "print(f'Precisão: {precision_score(y_val, y_previsto)}')\n",
    "print(f'Recall: {recall_score(y_val, y_previsto)}')"
   ]
  },
  {
   "cell_type": "code",
   "execution_count": 16,
   "id": "ee6fd37b",
   "metadata": {},
   "outputs": [
    {
     "name": "stdout",
     "output_type": "stream",
     "text": [
      "F1-Score: 0.070446735395189\n"
     ]
    }
   ],
   "source": [
    "# F1 score\n",
    "from sklearn.metrics import f1_score\n",
    "print(f'F1-Score: {f1_score(y_val, y_previsto)}')"
   ]
  },
  {
   "cell_type": "code",
   "execution_count": 17,
   "id": "be9335d5",
   "metadata": {},
   "outputs": [
    {
     "data": {
      "image/png": "[encoded data removed]",
      "text/plain": [
       "<Figure size 640x480 with 1 Axes>"
      ]
     },
     "metadata": {},
     "output_type": "display_data"
    }
   ],
   "source": [
    "# Curva ROC\n",
    "from sklearn.metrics import RocCurveDisplay\n",
    "RocCurveDisplay.from_predictions(y_val, y_previsto, name = 'Árvore de Decisão');"
   ]
  },
  {
   "cell_type": "code",
   "execution_count": 18,
   "id": "c803b18c",
   "metadata": {},
   "outputs": [
    {
     "name": "stdout",
     "output_type": "stream",
     "text": [
      "AUC: 0.5146856301710921\n"
     ]
    }
   ],
   "source": [
    "from sklearn.metrics import roc_auc_score\n",
    "print(f'AUC: {roc_auc_score(y_val, y_previsto)}')"
   ]
  },
  {
   "cell_type": "markdown",
   "id": "a298fe2f",
   "metadata": {},
   "source": [
    "### Curva de Precisão e Recall"
   ]
  },
  {
   "cell_type": "code",
   "execution_count": 19,
   "id": "88002935",
   "metadata": {},
   "outputs": [
    {
     "data": {
      "image/png": "[encoded data removed]",
      "text/plain": [
       "<Figure size 640x480 with 1 Axes>"
      ]
     },
     "metadata": {},
     "output_type": "display_data"
    }
   ],
   "source": [
    "from sklearn.metrics import PrecisionRecallDisplay\n",
    "PrecisionRecallDisplay.from_predictions(y_val, y_previsto, name='Árvore de decisão');\n"
   ]
  },
  {
   "cell_type": "code",
   "execution_count": 20,
   "id": "f411d3d0",
   "metadata": {},
   "outputs": [
    {
     "name": "stdout",
     "output_type": "stream",
     "text": [
      "AP: 0.0940593416939827\n"
     ]
    }
   ],
   "source": [
    "from sklearn.metrics import average_precision_score\n",
    "print(f'AP: {average_precision_score(y_val, y_previsto)}')"
   ]
  },
  {
   "cell_type": "code",
   "execution_count": 21,
   "id": "5e352441",
   "metadata": {},
   "outputs": [
    {
     "name": "stdout",
     "output_type": "stream",
     "text": [
      "              precision    recall  f1-score   support\n",
      "\n",
      "           0       0.92      0.99      0.95     10479\n",
      "           1       0.25      0.04      0.07      1002\n",
      "\n",
      "    accuracy                           0.91     11481\n",
      "   macro avg       0.58      0.51      0.51     11481\n",
      "weighted avg       0.86      0.91      0.87     11481\n",
      "\n"
     ]
    }
   ],
   "source": [
    "from sklearn.metrics import classification_report\n",
    "print(classification_report(y_val, y_previsto))"
   ]
  },
  {
   "cell_type": "markdown",
   "id": "f03a6f8e",
   "metadata": {},
   "source": [
    "### Validação Cruzada k-fold\n",
    "Os dados de treinamento são separados em partes e uma das partes se torna validação e as outras treinamento. O processo é repetido até que todas as partes em algum momento seja a validação."
   ]
  },
  {
   "cell_type": "code",
   "execution_count": 22,
   "id": "5a649bb2",
   "metadata": {},
   "outputs": [],
   "source": [
    "from sklearn.model_selection import cross_validate, KFold"
   ]
  },
  {
   "cell_type": "code",
   "execution_count": 24,
   "id": "ec938a3e",
   "metadata": {},
   "outputs": [
    {
     "data": {
      "text/plain": [
       "{'fit_time': array([0.55586171, 0.71216893, 0.55650878, 0.47674537, 0.4970212 ]),\n",
       " 'score_time': array([0.04987884, 0.03190804, 0.01396275, 0.00598001, 0.00399113]),\n",
       " 'test_score': array([0.91344584, 0.90810105, 0.90788328, 0.91321864, 0.89939024])}"
      ]
     },
     "execution_count": 24,
     "metadata": {},
     "output_type": "execute_result"
    }
   ],
   "source": [
    "model = DecisionTreeClassifier(max_depth= 10)\n",
    "kf = KFold(n_splits=5, shuffle=True, random_state=5)\n",
    "cv_resultados = cross_validate(modelo, x, y, cv = kf)\n",
    "cv_resultados"
   ]
  },
  {
   "cell_type": "code",
   "execution_count": 25,
   "id": "5a60d388",
   "metadata": {},
   "outputs": [
    {
     "data": {
      "text/plain": [
       "array([0.91344584, 0.90810105, 0.90788328, 0.91321864, 0.89939024])"
      ]
     },
     "execution_count": 25,
     "metadata": {},
     "output_type": "execute_result"
    }
   ],
   "source": [
    "cv_resultados['test_score']"
   ]
  },
  {
   "cell_type": "code",
   "execution_count": 27,
   "id": "2cc0df18",
   "metadata": {},
   "outputs": [
    {
     "name": "stdout",
     "output_type": "stream",
     "text": [
      "Intervalo de confiança: [0.8982014753942339, 0.918614141076341]\n"
     ]
    }
   ],
   "source": [
    "media = cv_resultados['test_score'].mean()\n",
    "desvio_padrao = cv_resultados['test_score'].std()\n",
    "print(f'Intervalo de confiança: [{media - 2*desvio_padrao}, {min(media + 2*desvio_padrao, 1)}]')"
   ]
  },
  {
   "cell_type": "code",
   "execution_count": 29,
   "id": "942a27bb",
   "metadata": {},
   "outputs": [],
   "source": [
    "# Validação cruzada com recall\n",
    "def intervalo_conf(resultados):\n",
    "    media = resultados['test_score'].mean()\n",
    "    desvio_padrao = resultados['test_score'].std()\n",
    "    print(f'Intervalo de confiança: [{media - 2*desvio_padrao}, {min(media + 2*desvio_padrao, 1)}]')"
   ]
  },
  {
   "cell_type": "code",
   "execution_count": 30,
   "id": "6375c517",
   "metadata": {},
   "outputs": [
    {
     "data": {
      "text/plain": [
       "{'fit_time': array([0.36307693, 0.36492777, 0.35139942, 0.31517482, 0.31877398]),\n",
       " 'score_time': array([0.0119772 , 0.0089767 , 0.00997186, 0.01196933, 0.02159023]),\n",
       " 'test_score': array([0.02509908, 0.0210396 , 0.0196802 , 0.01697128, 0.02312139])}"
      ]
     },
     "execution_count": 30,
     "metadata": {},
     "output_type": "execute_result"
    }
   ],
   "source": [
    "model = DecisionTreeClassifier(max_depth= 10)\n",
    "kf = KFold(n_splits=5, shuffle=True, random_state=5)\n",
    "cv_resultados = cross_validate(modelo, x, y, cv = kf, scoring='recall')\n",
    "cv_resultados"
   ]
  },
  {
   "cell_type": "code",
   "execution_count": 31,
   "id": "d791fe5c",
   "metadata": {},
   "outputs": [
    {
     "name": "stdout",
     "output_type": "stream",
     "text": [
      "Intervalo de confiança: [0.015588700826154746, 0.026775916260323294]\n"
     ]
    }
   ],
   "source": [
    "intervalo_conf(cv_resultados)"
   ]
  },
  {
   "cell_type": "markdown",
   "id": "cda75120",
   "metadata": {},
   "source": [
    "#### Estratificando dados\n"
   ]
  },
  {
   "cell_type": "code",
   "execution_count": 32,
   "id": "39535ccb",
   "metadata": {},
   "outputs": [
    {
     "data": {
      "text/plain": [
       "0    0.912707\n",
       "1    0.087293\n",
       "Name: inadimplente, dtype: float64"
      ]
     },
     "execution_count": 32,
     "metadata": {},
     "output_type": "execute_result"
    }
   ],
   "source": [
    "dados['inadimplente'].value_counts(normalize=True)"
   ]
  },
  {
   "cell_type": "code",
   "execution_count": 35,
   "id": "ff589d42",
   "metadata": {},
   "outputs": [],
   "source": [
    "from sklearn.model_selection import StratifiedKFold\n",
    "modelo = DecisionTreeClassifier(max_depth=10)\n",
    "skf = StratifiedKFold(n_splits=5, shuffle=True, random_state=5)\n",
    "cv_resultados = cross_validate(modelo, x, y, cv=skf, scoring = 'recall')"
   ]
  },
  {
   "cell_type": "code",
   "execution_count": 36,
   "id": "9a430182",
   "metadata": {},
   "outputs": [
    {
     "name": "stdout",
     "output_type": "stream",
     "text": [
      "Intervalo de confiança: [0.01835935262408535, 0.03601656774976156]\n"
     ]
    }
   ],
   "source": [
    "intervalo_conf(cv_resultados)"
   ]
  },
  {
   "cell_type": "markdown",
   "id": "ede288c9",
   "metadata": {},
   "source": [
    "### Melhorando o modelo"
   ]
  },
  {
   "cell_type": "markdown",
   "id": "36af28be",
   "metadata": {},
   "source": [
    "#### Oversampling - Aumenta a quantidade de dados da classe tem menor quantidade"
   ]
  },
  {
   "cell_type": "code",
   "execution_count": 37,
   "id": "113dc7ed",
   "metadata": {},
   "outputs": [],
   "source": [
    "from imblearn.over_sampling import SMOTE"
   ]
  },
  {
   "cell_type": "code",
   "execution_count": 38,
   "id": "6a6369cc",
   "metadata": {},
   "outputs": [],
   "source": [
    "oversample = SMOTE()\n",
    "x_balanceado, y_balanceado = oversample.fit_resample(x, y)"
   ]
  },
  {
   "cell_type": "code",
   "execution_count": 39,
   "id": "30b9e033",
   "metadata": {},
   "outputs": [
    {
     "data": {
      "text/plain": [
       "0    0.5\n",
       "1    0.5\n",
       "Name: inadimplente, dtype: float64"
      ]
     },
     "execution_count": 39,
     "metadata": {},
     "output_type": "execute_result"
    }
   ],
   "source": [
    "y_balanceado.value_counts(normalize = True)"
   ]
  },
  {
   "cell_type": "code",
   "execution_count": 40,
   "id": "1d54acf8",
   "metadata": {},
   "outputs": [],
   "source": [
    "modelo = DecisionTreeClassifier(max_depth=10) \n",
    "skf = StratifiedKFold(n_splits = 5, shuffle=True, random_state=5)\n",
    "cv_resultados = cross_validate(modelo, x_balanceado, y_balanceado, cv = skf, scoring = 'recall')"
   ]
  },
  {
   "cell_type": "code",
   "execution_count": 41,
   "id": "bee83cd6",
   "metadata": {},
   "outputs": [
    {
     "name": "stdout",
     "output_type": "stream",
     "text": [
      "Intervalo de confiança: [0.7280789842284728, 0.7602774692899462]\n"
     ]
    }
   ],
   "source": [
    "intervalo_conf(cv_resultados)"
   ]
  },
  {
   "cell_type": "markdown",
   "id": "84733d95",
   "metadata": {},
   "source": [
    "#### Pipeline para validação\n",
    "É necessário fazer um pipeline para validação, porque os dados precisam ser balanceados para que o treino seja realizado, mas o teste é feito nos dados desbalanceados, que é como os dados são recebidos para análise."
   ]
  },
  {
   "cell_type": "code",
   "execution_count": 43,
   "id": "11f97445",
   "metadata": {},
   "outputs": [],
   "source": [
    "from imblearn.pipeline import Pipeline as imbpipeline"
   ]
  },
  {
   "cell_type": "code",
   "execution_count": null,
   "id": "b1a124d2",
   "metadata": {},
   "outputs": [],
   "source": [
    "modelo =  DecisionTreeClassifier(max_depth= 10)\n",
    "pipeline = imbpipeline([('oversample', SMOTE()), ('arvore', modelo)])"
   ]
  },
  {
   "cell_type": "code",
   "execution_count": 45,
   "id": "5ef4e0e1",
   "metadata": {},
   "outputs": [],
   "source": [
    "skf = StratifiedKFold(n_splits = 5, shuffle=True, random_state=5)\n",
    "cv_resultados = cross_validate(pipeline, x, y, cv = skf, scoring = 'recall')"
   ]
  },
  {
   "cell_type": "code",
   "execution_count": 46,
   "id": "6997fc34",
   "metadata": {},
   "outputs": [
    {
     "name": "stdout",
     "output_type": "stream",
     "text": [
      "Intervalo de confiança: [0.19824188725852157, 0.33008336702150876]\n"
     ]
    }
   ],
   "source": [
    "intervalo_conf(cv_resultados)"
   ]
  },
  {
   "cell_type": "markdown",
   "id": "1563afe9",
   "metadata": {},
   "source": [
    "#### Undersampling"
   ]
  },
  {
   "cell_type": "code",
   "execution_count": 47,
   "id": "885fc665",
   "metadata": {},
   "outputs": [],
   "source": [
    "from imblearn.under_sampling import NearMiss"
   ]
  },
  {
   "cell_type": "code",
   "execution_count": 48,
   "id": "b80fc6c6",
   "metadata": {},
   "outputs": [],
   "source": [
    "modelo =  DecisionTreeClassifier(max_depth= 10)\n",
    "pipeline = imbpipeline([('undersample', NearMiss(version=3)), ('arvore', modelo)])\n",
    "skf = StratifiedKFold(n_splits = 5, shuffle=True, random_state=5)\n",
    "cv_resultados = cross_validate(pipeline, x, y, cv = skf, scoring = 'recall')"
   ]
  },
  {
   "cell_type": "code",
   "execution_count": 49,
   "id": "3bb6a41c",
   "metadata": {},
   "outputs": [
    {
     "name": "stdout",
     "output_type": "stream",
     "text": [
      "Intervalo de confiança: [0.6273084400720611, 0.6966974005075136]\n"
     ]
    }
   ],
   "source": [
    "intervalo_conf(cv_resultados)"
   ]
  },
  {
   "cell_type": "markdown",
   "id": "ed52066f",
   "metadata": {},
   "source": [
    "### Testando o modelo"
   ]
  },
  {
   "cell_type": "code",
   "execution_count": 51,
   "id": "8c42f6fb",
   "metadata": {},
   "outputs": [
    {
     "name": "stdout",
     "output_type": "stream",
     "text": [
      "              precision    recall  f1-score   support\n",
      "\n",
      "           0       0.94      0.48      0.64      7397\n",
      "           1       0.11      0.70      0.20       707\n",
      "\n",
      "    accuracy                           0.50      8104\n",
      "   macro avg       0.53      0.59      0.42      8104\n",
      "weighted avg       0.87      0.50      0.60      8104\n",
      "\n"
     ]
    },
    {
     "data": {
      "text/plain": [
       "<sklearn.metrics._plot.confusion_matrix.ConfusionMatrixDisplay at 0x24fe636b5d0>"
      ]
     },
     "execution_count": 51,
     "metadata": {},
     "output_type": "execute_result"
    },
    {
     "data": {
      "image/png": "[encoded data removed]",
      "text/plain": [
       "<Figure size 640x480 with 2 Axes>"
      ]
     },
     "metadata": {},
     "output_type": "display_data"
    }
   ],
   "source": [
    "undersample = NearMiss(version=3)\n",
    "x_balanceado, y_balanceado = undersample.fit_resample(x, y)\n",
    "\n",
    "modelo = DecisionTreeClassifier(max_depth=10)\n",
    "modelo.fit(x_balanceado, y_balanceado)\n",
    "y_previsto = modelo.predict(x_teste)\n",
    "\n",
    "print(classification_report(y_teste, y_previsto))\n",
    "ConfusionMatrixDisplay.from_predictions(y_teste, y_previsto)"
   ]
  }
 ],
 "metadata": {
  "kernelspec": {
   "display_name": "base",
   "language": "python",
   "name": "python3"
  },
  "language_info": {
   "codemirror_mode": {
    "name": "ipython",
    "version": 3
   },
   "file_extension": ".py",
   "mimetype": "text/x-python",
   "name": "python",
   "nbconvert_exporter": "python",
   "pygments_lexer": "ipython3",
   "version": "3.11.3"
  }
 },
 "nbformat": 4,
 "nbformat_minor": 5
}
